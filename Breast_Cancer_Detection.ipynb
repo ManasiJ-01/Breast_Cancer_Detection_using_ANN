{
  "nbformat": 4,
  "nbformat_minor": 0,
  "metadata": {
    "colab": {
      "provenance": []
    },
    "kernelspec": {
      "name": "python3",
      "display_name": "Python 3"
    },
    "language_info": {
      "name": "python"
    }
  },
  "cells": [
    {
      "cell_type": "markdown",
      "source": [
        "# **Breast Cancer Detection Using Artificial Neural Network**"
      ],
      "metadata": {
        "id": "0TVUTUAvxUwZ"
      }
    },
    {
      "cell_type": "code",
      "execution_count": 12,
      "metadata": {
        "id": "P7TiR2nznDYA"
      },
      "outputs": [],
      "source": [
        "import numpy as np\n",
        "import pandas as pd\n",
        "\n",
        "# import dataset\n",
        "from sklearn.datasets import load_breast_cancer\n",
        "from sklearn.preprocessing import StandardScaler\n",
        "from sklearn.model_selection import train_test_split\n",
        "\n",
        "from keras.models import Sequential\n",
        "from keras.layers import Dense"
      ]
    },
    {
      "cell_type": "code",
      "source": [
        "data = load_breast_cancer()\n",
        "data"
      ],
      "metadata": {
        "colab": {
          "base_uri": "https://localhost:8080/"
        },
        "id": "Pg2y6HeXnj4i",
        "outputId": "bf5904c3-2c9f-40fb-c726-d5b420ec9fd6"
      },
      "execution_count": 13,
      "outputs": [
        {
          "output_type": "execute_result",
          "data": {
            "text/plain": [
              "{'data': array([[1.799e+01, 1.038e+01, 1.228e+02, ..., 2.654e-01, 4.601e-01,\n",
              "         1.189e-01],\n",
              "        [2.057e+01, 1.777e+01, 1.329e+02, ..., 1.860e-01, 2.750e-01,\n",
              "         8.902e-02],\n",
              "        [1.969e+01, 2.125e+01, 1.300e+02, ..., 2.430e-01, 3.613e-01,\n",
              "         8.758e-02],\n",
              "        ...,\n",
              "        [1.660e+01, 2.808e+01, 1.083e+02, ..., 1.418e-01, 2.218e-01,\n",
              "         7.820e-02],\n",
              "        [2.060e+01, 2.933e+01, 1.401e+02, ..., 2.650e-01, 4.087e-01,\n",
              "         1.240e-01],\n",
              "        [7.760e+00, 2.454e+01, 4.792e+01, ..., 0.000e+00, 2.871e-01,\n",
              "         7.039e-02]]),\n",
              " 'target': array([0, 0, 0, 0, 0, 0, 0, 0, 0, 0, 0, 0, 0, 0, 0, 0, 0, 0, 0, 1, 1, 1,\n",
              "        0, 0, 0, 0, 0, 0, 0, 0, 0, 0, 0, 0, 0, 0, 0, 1, 0, 0, 0, 0, 0, 0,\n",
              "        0, 0, 1, 0, 1, 1, 1, 1, 1, 0, 0, 1, 0, 0, 1, 1, 1, 1, 0, 1, 0, 0,\n",
              "        1, 1, 1, 1, 0, 1, 0, 0, 1, 0, 1, 0, 0, 1, 1, 1, 0, 0, 1, 0, 0, 0,\n",
              "        1, 1, 1, 0, 1, 1, 0, 0, 1, 1, 1, 0, 0, 1, 1, 1, 1, 0, 1, 1, 0, 1,\n",
              "        1, 1, 1, 1, 1, 1, 1, 0, 0, 0, 1, 0, 0, 1, 1, 1, 0, 0, 1, 0, 1, 0,\n",
              "        0, 1, 0, 0, 1, 1, 0, 1, 1, 0, 1, 1, 1, 1, 0, 1, 1, 1, 1, 1, 1, 1,\n",
              "        1, 1, 0, 1, 1, 1, 1, 0, 0, 1, 0, 1, 1, 0, 0, 1, 1, 0, 0, 1, 1, 1,\n",
              "        1, 0, 1, 1, 0, 0, 0, 1, 0, 1, 0, 1, 1, 1, 0, 1, 1, 0, 0, 1, 0, 0,\n",
              "        0, 0, 1, 0, 0, 0, 1, 0, 1, 0, 1, 1, 0, 1, 0, 0, 0, 0, 1, 1, 0, 0,\n",
              "        1, 1, 1, 0, 1, 1, 1, 1, 1, 0, 0, 1, 1, 0, 1, 1, 0, 0, 1, 0, 1, 1,\n",
              "        1, 1, 0, 1, 1, 1, 1, 1, 0, 1, 0, 0, 0, 0, 0, 0, 0, 0, 0, 0, 0, 0,\n",
              "        0, 0, 1, 1, 1, 1, 1, 1, 0, 1, 0, 1, 1, 0, 1, 1, 0, 1, 0, 0, 1, 1,\n",
              "        1, 1, 1, 1, 1, 1, 1, 1, 1, 1, 1, 0, 1, 1, 0, 1, 0, 1, 1, 1, 1, 1,\n",
              "        1, 1, 1, 1, 1, 1, 1, 1, 1, 0, 1, 1, 1, 0, 1, 0, 1, 1, 1, 1, 0, 0,\n",
              "        0, 1, 1, 1, 1, 0, 1, 0, 1, 0, 1, 1, 1, 0, 1, 1, 1, 1, 1, 1, 1, 0,\n",
              "        0, 0, 1, 1, 1, 1, 1, 1, 1, 1, 1, 1, 1, 0, 0, 1, 0, 0, 0, 1, 0, 0,\n",
              "        1, 1, 1, 1, 1, 0, 1, 1, 1, 1, 1, 0, 1, 1, 1, 0, 1, 1, 0, 0, 1, 1,\n",
              "        1, 1, 1, 1, 0, 1, 1, 1, 1, 1, 1, 1, 0, 1, 1, 1, 1, 1, 0, 1, 1, 0,\n",
              "        1, 1, 1, 1, 1, 1, 1, 1, 1, 1, 1, 1, 0, 1, 0, 0, 1, 0, 1, 1, 1, 1,\n",
              "        1, 0, 1, 1, 0, 1, 0, 1, 1, 0, 1, 0, 1, 1, 1, 1, 1, 1, 1, 1, 0, 0,\n",
              "        1, 1, 1, 1, 1, 1, 0, 1, 1, 1, 1, 1, 1, 1, 1, 1, 1, 0, 1, 1, 1, 1,\n",
              "        1, 1, 1, 0, 1, 0, 1, 1, 0, 1, 1, 1, 1, 1, 0, 0, 1, 0, 1, 0, 1, 1,\n",
              "        1, 1, 1, 0, 1, 1, 0, 1, 0, 1, 0, 0, 1, 1, 1, 0, 1, 1, 1, 1, 1, 1,\n",
              "        1, 1, 1, 1, 1, 0, 1, 0, 0, 1, 1, 1, 1, 1, 1, 1, 1, 1, 1, 1, 1, 1,\n",
              "        1, 1, 1, 1, 1, 1, 1, 1, 1, 1, 1, 1, 0, 0, 0, 0, 0, 0, 1]),\n",
              " 'frame': None,\n",
              " 'target_names': array(['malignant', 'benign'], dtype='<U9'),\n",
              " 'DESCR': '.. _breast_cancer_dataset:\\n\\nBreast cancer wisconsin (diagnostic) dataset\\n--------------------------------------------\\n\\n**Data Set Characteristics:**\\n\\n    :Number of Instances: 569\\n\\n    :Number of Attributes: 30 numeric, predictive attributes and the class\\n\\n    :Attribute Information:\\n        - radius (mean of distances from center to points on the perimeter)\\n        - texture (standard deviation of gray-scale values)\\n        - perimeter\\n        - area\\n        - smoothness (local variation in radius lengths)\\n        - compactness (perimeter^2 / area - 1.0)\\n        - concavity (severity of concave portions of the contour)\\n        - concave points (number of concave portions of the contour)\\n        - symmetry\\n        - fractal dimension (\"coastline approximation\" - 1)\\n\\n        The mean, standard error, and \"worst\" or largest (mean of the three\\n        worst/largest values) of these features were computed for each image,\\n        resulting in 30 features.  For instance, field 0 is Mean Radius, field\\n        10 is Radius SE, field 20 is Worst Radius.\\n\\n        - class:\\n                - WDBC-Malignant\\n                - WDBC-Benign\\n\\n    :Summary Statistics:\\n\\n    ===================================== ====== ======\\n                                           Min    Max\\n    ===================================== ====== ======\\n    radius (mean):                        6.981  28.11\\n    texture (mean):                       9.71   39.28\\n    perimeter (mean):                     43.79  188.5\\n    area (mean):                          143.5  2501.0\\n    smoothness (mean):                    0.053  0.163\\n    compactness (mean):                   0.019  0.345\\n    concavity (mean):                     0.0    0.427\\n    concave points (mean):                0.0    0.201\\n    symmetry (mean):                      0.106  0.304\\n    fractal dimension (mean):             0.05   0.097\\n    radius (standard error):              0.112  2.873\\n    texture (standard error):             0.36   4.885\\n    perimeter (standard error):           0.757  21.98\\n    area (standard error):                6.802  542.2\\n    smoothness (standard error):          0.002  0.031\\n    compactness (standard error):         0.002  0.135\\n    concavity (standard error):           0.0    0.396\\n    concave points (standard error):      0.0    0.053\\n    symmetry (standard error):            0.008  0.079\\n    fractal dimension (standard error):   0.001  0.03\\n    radius (worst):                       7.93   36.04\\n    texture (worst):                      12.02  49.54\\n    perimeter (worst):                    50.41  251.2\\n    area (worst):                         185.2  4254.0\\n    smoothness (worst):                   0.071  0.223\\n    compactness (worst):                  0.027  1.058\\n    concavity (worst):                    0.0    1.252\\n    concave points (worst):               0.0    0.291\\n    symmetry (worst):                     0.156  0.664\\n    fractal dimension (worst):            0.055  0.208\\n    ===================================== ====== ======\\n\\n    :Missing Attribute Values: None\\n\\n    :Class Distribution: 212 - Malignant, 357 - Benign\\n\\n    :Creator:  Dr. William H. Wolberg, W. Nick Street, Olvi L. Mangasarian\\n\\n    :Donor: Nick Street\\n\\n    :Date: November, 1995\\n\\nThis is a copy of UCI ML Breast Cancer Wisconsin (Diagnostic) datasets.\\nhttps://goo.gl/U2Uwz2\\n\\nFeatures are computed from a digitized image of a fine needle\\naspirate (FNA) of a breast mass.  They describe\\ncharacteristics of the cell nuclei present in the image.\\n\\nSeparating plane described above was obtained using\\nMultisurface Method-Tree (MSM-T) [K. P. Bennett, \"Decision Tree\\nConstruction Via Linear Programming.\" Proceedings of the 4th\\nMidwest Artificial Intelligence and Cognitive Science Society,\\npp. 97-101, 1992], a classification method which uses linear\\nprogramming to construct a decision tree.  Relevant features\\nwere selected using an exhaustive search in the space of 1-4\\nfeatures and 1-3 separating planes.\\n\\nThe actual linear program used to obtain the separating plane\\nin the 3-dimensional space is that described in:\\n[K. P. Bennett and O. L. Mangasarian: \"Robust Linear\\nProgramming Discrimination of Two Linearly Inseparable Sets\",\\nOptimization Methods and Software 1, 1992, 23-34].\\n\\nThis database is also available through the UW CS ftp server:\\n\\nftp ftp.cs.wisc.edu\\ncd math-prog/cpo-dataset/machine-learn/WDBC/\\n\\n.. topic:: References\\n\\n   - W.N. Street, W.H. Wolberg and O.L. Mangasarian. Nuclear feature extraction \\n     for breast tumor diagnosis. IS&T/SPIE 1993 International Symposium on \\n     Electronic Imaging: Science and Technology, volume 1905, pages 861-870,\\n     San Jose, CA, 1993.\\n   - O.L. Mangasarian, W.N. Street and W.H. Wolberg. Breast cancer diagnosis and \\n     prognosis via linear programming. Operations Research, 43(4), pages 570-577, \\n     July-August 1995.\\n   - W.H. Wolberg, W.N. Street, and O.L. Mangasarian. Machine learning techniques\\n     to diagnose breast cancer from fine-needle aspirates. Cancer Letters 77 (1994) \\n     163-171.',\n",
              " 'feature_names': array(['mean radius', 'mean texture', 'mean perimeter', 'mean area',\n",
              "        'mean smoothness', 'mean compactness', 'mean concavity',\n",
              "        'mean concave points', 'mean symmetry', 'mean fractal dimension',\n",
              "        'radius error', 'texture error', 'perimeter error', 'area error',\n",
              "        'smoothness error', 'compactness error', 'concavity error',\n",
              "        'concave points error', 'symmetry error',\n",
              "        'fractal dimension error', 'worst radius', 'worst texture',\n",
              "        'worst perimeter', 'worst area', 'worst smoothness',\n",
              "        'worst compactness', 'worst concavity', 'worst concave points',\n",
              "        'worst symmetry', 'worst fractal dimension'], dtype='<U23'),\n",
              " 'filename': 'breast_cancer.csv',\n",
              " 'data_module': 'sklearn.datasets.data'}"
            ]
          },
          "metadata": {},
          "execution_count": 13
        }
      ]
    },
    {
      "cell_type": "code",
      "source": [
        "data.keys()"
      ],
      "metadata": {
        "colab": {
          "base_uri": "https://localhost:8080/"
        },
        "id": "4HOXiVhWoCTS",
        "outputId": "a57f3339-3613-472b-a8f4-097afaaacfaf"
      },
      "execution_count": 14,
      "outputs": [
        {
          "output_type": "execute_result",
          "data": {
            "text/plain": [
              "dict_keys(['data', 'target', 'frame', 'target_names', 'DESCR', 'feature_names', 'filename', 'data_module'])"
            ]
          },
          "metadata": {},
          "execution_count": 14
        }
      ]
    },
    {
      "cell_type": "markdown",
      "source": [
        "# Analysing each Attributes"
      ],
      "metadata": {
        "id": "vMNMihVs4OOd"
      }
    },
    {
      "cell_type": "code",
      "source": [
        "print(data['DESCR'])"
      ],
      "metadata": {
        "colab": {
          "base_uri": "https://localhost:8080/"
        },
        "id": "QiXTs-BEoCOK",
        "outputId": "0f3cbc72-7e7d-425a-8066-320d80cef2b0"
      },
      "execution_count": 15,
      "outputs": [
        {
          "output_type": "stream",
          "name": "stdout",
          "text": [
            ".. _breast_cancer_dataset:\n",
            "\n",
            "Breast cancer wisconsin (diagnostic) dataset\n",
            "--------------------------------------------\n",
            "\n",
            "**Data Set Characteristics:**\n",
            "\n",
            "    :Number of Instances: 569\n",
            "\n",
            "    :Number of Attributes: 30 numeric, predictive attributes and the class\n",
            "\n",
            "    :Attribute Information:\n",
            "        - radius (mean of distances from center to points on the perimeter)\n",
            "        - texture (standard deviation of gray-scale values)\n",
            "        - perimeter\n",
            "        - area\n",
            "        - smoothness (local variation in radius lengths)\n",
            "        - compactness (perimeter^2 / area - 1.0)\n",
            "        - concavity (severity of concave portions of the contour)\n",
            "        - concave points (number of concave portions of the contour)\n",
            "        - symmetry\n",
            "        - fractal dimension (\"coastline approximation\" - 1)\n",
            "\n",
            "        The mean, standard error, and \"worst\" or largest (mean of the three\n",
            "        worst/largest values) of these features were computed for each image,\n",
            "        resulting in 30 features.  For instance, field 0 is Mean Radius, field\n",
            "        10 is Radius SE, field 20 is Worst Radius.\n",
            "\n",
            "        - class:\n",
            "                - WDBC-Malignant\n",
            "                - WDBC-Benign\n",
            "\n",
            "    :Summary Statistics:\n",
            "\n",
            "    ===================================== ====== ======\n",
            "                                           Min    Max\n",
            "    ===================================== ====== ======\n",
            "    radius (mean):                        6.981  28.11\n",
            "    texture (mean):                       9.71   39.28\n",
            "    perimeter (mean):                     43.79  188.5\n",
            "    area (mean):                          143.5  2501.0\n",
            "    smoothness (mean):                    0.053  0.163\n",
            "    compactness (mean):                   0.019  0.345\n",
            "    concavity (mean):                     0.0    0.427\n",
            "    concave points (mean):                0.0    0.201\n",
            "    symmetry (mean):                      0.106  0.304\n",
            "    fractal dimension (mean):             0.05   0.097\n",
            "    radius (standard error):              0.112  2.873\n",
            "    texture (standard error):             0.36   4.885\n",
            "    perimeter (standard error):           0.757  21.98\n",
            "    area (standard error):                6.802  542.2\n",
            "    smoothness (standard error):          0.002  0.031\n",
            "    compactness (standard error):         0.002  0.135\n",
            "    concavity (standard error):           0.0    0.396\n",
            "    concave points (standard error):      0.0    0.053\n",
            "    symmetry (standard error):            0.008  0.079\n",
            "    fractal dimension (standard error):   0.001  0.03\n",
            "    radius (worst):                       7.93   36.04\n",
            "    texture (worst):                      12.02  49.54\n",
            "    perimeter (worst):                    50.41  251.2\n",
            "    area (worst):                         185.2  4254.0\n",
            "    smoothness (worst):                   0.071  0.223\n",
            "    compactness (worst):                  0.027  1.058\n",
            "    concavity (worst):                    0.0    1.252\n",
            "    concave points (worst):               0.0    0.291\n",
            "    symmetry (worst):                     0.156  0.664\n",
            "    fractal dimension (worst):            0.055  0.208\n",
            "    ===================================== ====== ======\n",
            "\n",
            "    :Missing Attribute Values: None\n",
            "\n",
            "    :Class Distribution: 212 - Malignant, 357 - Benign\n",
            "\n",
            "    :Creator:  Dr. William H. Wolberg, W. Nick Street, Olvi L. Mangasarian\n",
            "\n",
            "    :Donor: Nick Street\n",
            "\n",
            "    :Date: November, 1995\n",
            "\n",
            "This is a copy of UCI ML Breast Cancer Wisconsin (Diagnostic) datasets.\n",
            "https://goo.gl/U2Uwz2\n",
            "\n",
            "Features are computed from a digitized image of a fine needle\n",
            "aspirate (FNA) of a breast mass.  They describe\n",
            "characteristics of the cell nuclei present in the image.\n",
            "\n",
            "Separating plane described above was obtained using\n",
            "Multisurface Method-Tree (MSM-T) [K. P. Bennett, \"Decision Tree\n",
            "Construction Via Linear Programming.\" Proceedings of the 4th\n",
            "Midwest Artificial Intelligence and Cognitive Science Society,\n",
            "pp. 97-101, 1992], a classification method which uses linear\n",
            "programming to construct a decision tree.  Relevant features\n",
            "were selected using an exhaustive search in the space of 1-4\n",
            "features and 1-3 separating planes.\n",
            "\n",
            "The actual linear program used to obtain the separating plane\n",
            "in the 3-dimensional space is that described in:\n",
            "[K. P. Bennett and O. L. Mangasarian: \"Robust Linear\n",
            "Programming Discrimination of Two Linearly Inseparable Sets\",\n",
            "Optimization Methods and Software 1, 1992, 23-34].\n",
            "\n",
            "This database is also available through the UW CS ftp server:\n",
            "\n",
            "ftp ftp.cs.wisc.edu\n",
            "cd math-prog/cpo-dataset/machine-learn/WDBC/\n",
            "\n",
            ".. topic:: References\n",
            "\n",
            "   - W.N. Street, W.H. Wolberg and O.L. Mangasarian. Nuclear feature extraction \n",
            "     for breast tumor diagnosis. IS&T/SPIE 1993 International Symposium on \n",
            "     Electronic Imaging: Science and Technology, volume 1905, pages 861-870,\n",
            "     San Jose, CA, 1993.\n",
            "   - O.L. Mangasarian, W.N. Street and W.H. Wolberg. Breast cancer diagnosis and \n",
            "     prognosis via linear programming. Operations Research, 43(4), pages 570-577, \n",
            "     July-August 1995.\n",
            "   - W.H. Wolberg, W.N. Street, and O.L. Mangasarian. Machine learning techniques\n",
            "     to diagnose breast cancer from fine-needle aspirates. Cancer Letters 77 (1994) \n",
            "     163-171.\n"
          ]
        }
      ]
    },
    {
      "cell_type": "code",
      "source": [
        "data['data'][0]"
      ],
      "metadata": {
        "colab": {
          "base_uri": "https://localhost:8080/"
        },
        "id": "_hgcXWs2oCFh",
        "outputId": "cc556ea5-d8bc-47e7-d4bb-bcbf9a45c24c"
      },
      "execution_count": 16,
      "outputs": [
        {
          "output_type": "execute_result",
          "data": {
            "text/plain": [
              "array([1.799e+01, 1.038e+01, 1.228e+02, 1.001e+03, 1.184e-01, 2.776e-01,\n",
              "       3.001e-01, 1.471e-01, 2.419e-01, 7.871e-02, 1.095e+00, 9.053e-01,\n",
              "       8.589e+00, 1.534e+02, 6.399e-03, 4.904e-02, 5.373e-02, 1.587e-02,\n",
              "       3.003e-02, 6.193e-03, 2.538e+01, 1.733e+01, 1.846e+02, 2.019e+03,\n",
              "       1.622e-01, 6.656e-01, 7.119e-01, 2.654e-01, 4.601e-01, 1.189e-01])"
            ]
          },
          "metadata": {},
          "execution_count": 16
        }
      ]
    },
    {
      "cell_type": "code",
      "source": [
        "data['feature_names']"
      ],
      "metadata": {
        "colab": {
          "base_uri": "https://localhost:8080/"
        },
        "id": "aK05y0GuoCB8",
        "outputId": "a6b2034d-a926-4acf-8fa0-1166869e19d8"
      },
      "execution_count": 17,
      "outputs": [
        {
          "output_type": "execute_result",
          "data": {
            "text/plain": [
              "array(['mean radius', 'mean texture', 'mean perimeter', 'mean area',\n",
              "       'mean smoothness', 'mean compactness', 'mean concavity',\n",
              "       'mean concave points', 'mean symmetry', 'mean fractal dimension',\n",
              "       'radius error', 'texture error', 'perimeter error', 'area error',\n",
              "       'smoothness error', 'compactness error', 'concavity error',\n",
              "       'concave points error', 'symmetry error',\n",
              "       'fractal dimension error', 'worst radius', 'worst texture',\n",
              "       'worst perimeter', 'worst area', 'worst smoothness',\n",
              "       'worst compactness', 'worst concavity', 'worst concave points',\n",
              "       'worst symmetry', 'worst fractal dimension'], dtype='<U23')"
            ]
          },
          "metadata": {},
          "execution_count": 17
        }
      ]
    },
    {
      "cell_type": "code",
      "source": [
        "data['data'].shape"
      ],
      "metadata": {
        "colab": {
          "base_uri": "https://localhost:8080/"
        },
        "id": "vfVzvm7e50b-",
        "outputId": "36aa55b3-e5e1-489f-b32b-3f687792c7cb"
      },
      "execution_count": 18,
      "outputs": [
        {
          "output_type": "execute_result",
          "data": {
            "text/plain": [
              "(569, 30)"
            ]
          },
          "metadata": {},
          "execution_count": 18
        }
      ]
    },
    {
      "cell_type": "code",
      "source": [
        "j=0\n",
        "for i in data['feature_names']:\n",
        "  print(i,\" : \",data['data'][0][j])\n",
        "  j +=1"
      ],
      "metadata": {
        "colab": {
          "base_uri": "https://localhost:8080/"
        },
        "id": "zwmf29CP7-hS",
        "outputId": "32b3c416-cc4a-4b2a-a66f-45c74adf1591"
      },
      "execution_count": 19,
      "outputs": [
        {
          "output_type": "stream",
          "name": "stdout",
          "text": [
            "mean radius  :  17.99\n",
            "mean texture  :  10.38\n",
            "mean perimeter  :  122.8\n",
            "mean area  :  1001.0\n",
            "mean smoothness  :  0.1184\n",
            "mean compactness  :  0.2776\n",
            "mean concavity  :  0.3001\n",
            "mean concave points  :  0.1471\n",
            "mean symmetry  :  0.2419\n",
            "mean fractal dimension  :  0.07871\n",
            "radius error  :  1.095\n",
            "texture error  :  0.9053\n",
            "perimeter error  :  8.589\n",
            "area error  :  153.4\n",
            "smoothness error  :  0.006399\n",
            "compactness error  :  0.04904\n",
            "concavity error  :  0.05373\n",
            "concave points error  :  0.01587\n",
            "symmetry error  :  0.03003\n",
            "fractal dimension error  :  0.006193\n",
            "worst radius  :  25.38\n",
            "worst texture  :  17.33\n",
            "worst perimeter  :  184.6\n",
            "worst area  :  2019.0\n",
            "worst smoothness  :  0.1622\n",
            "worst compactness  :  0.6656\n",
            "worst concavity  :  0.7119\n",
            "worst concave points  :  0.2654\n",
            "worst symmetry  :  0.4601\n",
            "worst fractal dimension  :  0.1189\n"
          ]
        }
      ]
    },
    {
      "cell_type": "code",
      "source": [
        "feature = data['data']\n",
        "label = data['target']"
      ],
      "metadata": {
        "id": "b0Vl02ox9Che"
      },
      "execution_count": 20,
      "outputs": []
    },
    {
      "cell_type": "code",
      "source": [
        "data['target_names']"
      ],
      "metadata": {
        "colab": {
          "base_uri": "https://localhost:8080/"
        },
        "id": "3GLsZvLF_cSQ",
        "outputId": "365cbf23-3e19-4e6a-e5b8-76a9eabaa7ca"
      },
      "execution_count": 22,
      "outputs": [
        {
          "output_type": "execute_result",
          "data": {
            "text/plain": [
              "array(['malignant', 'benign'], dtype='<U9')"
            ]
          },
          "metadata": {},
          "execution_count": 22
        }
      ]
    },
    {
      "cell_type": "code",
      "source": [
        "label"
      ],
      "metadata": {
        "colab": {
          "base_uri": "https://localhost:8080/"
        },
        "id": "uSGr2GjCAGIt",
        "outputId": "e2479f97-228c-491b-b58a-927f5951657d"
      },
      "execution_count": 24,
      "outputs": [
        {
          "output_type": "execute_result",
          "data": {
            "text/plain": [
              "array([0, 0, 0, 0, 0, 0, 0, 0, 0, 0, 0, 0, 0, 0, 0, 0, 0, 0, 0, 1, 1, 1,\n",
              "       0, 0, 0, 0, 0, 0, 0, 0, 0, 0, 0, 0, 0, 0, 0, 1, 0, 0, 0, 0, 0, 0,\n",
              "       0, 0, 1, 0, 1, 1, 1, 1, 1, 0, 0, 1, 0, 0, 1, 1, 1, 1, 0, 1, 0, 0,\n",
              "       1, 1, 1, 1, 0, 1, 0, 0, 1, 0, 1, 0, 0, 1, 1, 1, 0, 0, 1, 0, 0, 0,\n",
              "       1, 1, 1, 0, 1, 1, 0, 0, 1, 1, 1, 0, 0, 1, 1, 1, 1, 0, 1, 1, 0, 1,\n",
              "       1, 1, 1, 1, 1, 1, 1, 0, 0, 0, 1, 0, 0, 1, 1, 1, 0, 0, 1, 0, 1, 0,\n",
              "       0, 1, 0, 0, 1, 1, 0, 1, 1, 0, 1, 1, 1, 1, 0, 1, 1, 1, 1, 1, 1, 1,\n",
              "       1, 1, 0, 1, 1, 1, 1, 0, 0, 1, 0, 1, 1, 0, 0, 1, 1, 0, 0, 1, 1, 1,\n",
              "       1, 0, 1, 1, 0, 0, 0, 1, 0, 1, 0, 1, 1, 1, 0, 1, 1, 0, 0, 1, 0, 0,\n",
              "       0, 0, 1, 0, 0, 0, 1, 0, 1, 0, 1, 1, 0, 1, 0, 0, 0, 0, 1, 1, 0, 0,\n",
              "       1, 1, 1, 0, 1, 1, 1, 1, 1, 0, 0, 1, 1, 0, 1, 1, 0, 0, 1, 0, 1, 1,\n",
              "       1, 1, 0, 1, 1, 1, 1, 1, 0, 1, 0, 0, 0, 0, 0, 0, 0, 0, 0, 0, 0, 0,\n",
              "       0, 0, 1, 1, 1, 1, 1, 1, 0, 1, 0, 1, 1, 0, 1, 1, 0, 1, 0, 0, 1, 1,\n",
              "       1, 1, 1, 1, 1, 1, 1, 1, 1, 1, 1, 0, 1, 1, 0, 1, 0, 1, 1, 1, 1, 1,\n",
              "       1, 1, 1, 1, 1, 1, 1, 1, 1, 0, 1, 1, 1, 0, 1, 0, 1, 1, 1, 1, 0, 0,\n",
              "       0, 1, 1, 1, 1, 0, 1, 0, 1, 0, 1, 1, 1, 0, 1, 1, 1, 1, 1, 1, 1, 0,\n",
              "       0, 0, 1, 1, 1, 1, 1, 1, 1, 1, 1, 1, 1, 0, 0, 1, 0, 0, 0, 1, 0, 0,\n",
              "       1, 1, 1, 1, 1, 0, 1, 1, 1, 1, 1, 0, 1, 1, 1, 0, 1, 1, 0, 0, 1, 1,\n",
              "       1, 1, 1, 1, 0, 1, 1, 1, 1, 1, 1, 1, 0, 1, 1, 1, 1, 1, 0, 1, 1, 0,\n",
              "       1, 1, 1, 1, 1, 1, 1, 1, 1, 1, 1, 1, 0, 1, 0, 0, 1, 0, 1, 1, 1, 1,\n",
              "       1, 0, 1, 1, 0, 1, 0, 1, 1, 0, 1, 0, 1, 1, 1, 1, 1, 1, 1, 1, 0, 0,\n",
              "       1, 1, 1, 1, 1, 1, 0, 1, 1, 1, 1, 1, 1, 1, 1, 1, 1, 0, 1, 1, 1, 1,\n",
              "       1, 1, 1, 0, 1, 0, 1, 1, 0, 1, 1, 1, 1, 1, 0, 0, 1, 0, 1, 0, 1, 1,\n",
              "       1, 1, 1, 0, 1, 1, 0, 1, 0, 1, 0, 0, 1, 1, 1, 0, 1, 1, 1, 1, 1, 1,\n",
              "       1, 1, 1, 1, 1, 0, 1, 0, 0, 1, 1, 1, 1, 1, 1, 1, 1, 1, 1, 1, 1, 1,\n",
              "       1, 1, 1, 1, 1, 1, 1, 1, 1, 1, 1, 1, 0, 0, 0, 0, 0, 0, 1])"
            ]
          },
          "metadata": {},
          "execution_count": 24
        }
      ]
    },
    {
      "cell_type": "markdown",
      "source": [
        "# Data Preprocessing"
      ],
      "metadata": {
        "id": "UGnegBdSBC98"
      }
    },
    {
      "cell_type": "code",
      "source": [
        "scale = StandardScaler()\n",
        "feature = scale.fit_transform(feature)"
      ],
      "metadata": {
        "id": "BWBUateLAT_N"
      },
      "execution_count": 23,
      "outputs": []
    },
    {
      "cell_type": "code",
      "source": [
        "j = 0\n",
        "for i in data['feature_names']:\n",
        "  print(i,\":\",feature[0][j])\n",
        "  j+=1"
      ],
      "metadata": {
        "colab": {
          "base_uri": "https://localhost:8080/"
        },
        "id": "XZX2xfwHAT8f",
        "outputId": "07b145d4-c244-4a49-8a68-71ac6b801cdc"
      },
      "execution_count": 25,
      "outputs": [
        {
          "output_type": "stream",
          "name": "stdout",
          "text": [
            "mean radius : 1.0970639814699807\n",
            "mean texture : -2.0733350146975935\n",
            "mean perimeter : 1.2699336881399383\n",
            "mean area : 0.9843749048031144\n",
            "mean smoothness : 1.568466329243428\n",
            "mean compactness : 3.2835146709868264\n",
            "mean concavity : 2.652873983743168\n",
            "mean concave points : 2.532475216403245\n",
            "mean symmetry : 2.2175150059646405\n",
            "mean fractal dimension : 2.255746885296269\n",
            "radius error : 2.4897339267376193\n",
            "texture error : -0.5652650590684639\n",
            "perimeter error : 2.833030865855184\n",
            "area error : 2.4875775569611043\n",
            "smoothness error : -0.21400164666895383\n",
            "compactness error : 1.3168615683959484\n",
            "concavity error : 0.72402615808036\n",
            "concave points error : 0.6608199414286064\n",
            "symmetry error : 1.1487566671861758\n",
            "fractal dimension error : 0.9070830809973359\n",
            "worst radius : 1.8866896251792757\n",
            "worst texture : -1.3592934737640827\n",
            "worst perimeter : 2.3036006236225606\n",
            "worst area : 2.0012374893299207\n",
            "worst smoothness : 1.3076862710715387\n",
            "worst compactness : 2.616665023512603\n",
            "worst concavity : 2.1095263465722556\n",
            "worst concave points : 2.296076127561788\n",
            "worst symmetry : 2.750622244124955\n",
            "worst fractal dimension : 1.9370146123781782\n"
          ]
        }
      ]
    },
    {
      "cell_type": "code",
      "source": [
        "print(feature[568])\n",
        "print(data['target_names'][label[568]],label[568])"
      ],
      "metadata": {
        "colab": {
          "base_uri": "https://localhost:8080/"
        },
        "id": "jBUmga3ZATwh",
        "outputId": "2679e8bd-eb71-4be9-f18c-5bb82f7ec2e3"
      },
      "execution_count": 26,
      "outputs": [
        {
          "output_type": "stream",
          "name": "stdout",
          "text": [
            "[-1.80840125  1.22179204 -1.81438851 -1.34778924 -3.11208479 -1.15075248\n",
            " -1.11487284 -1.26181958 -0.8200699  -0.56103238 -0.07027874  0.3830925\n",
            " -0.15744905 -0.46615196  0.04934236 -1.16351619 -1.05750068 -1.91344745\n",
            "  0.75282996 -0.382754   -1.41089258  0.76418957 -1.43273495 -1.07581292\n",
            " -1.85901852 -1.2075525  -1.30583065 -1.74506282 -0.04813821 -0.75120669]\n",
            "benign 1\n"
          ]
        }
      ]
    },
    {
      "cell_type": "markdown",
      "source": [
        "# Splitting the data"
      ],
      "metadata": {
        "id": "G0ICI1F3IJ1P"
      }
    },
    {
      "cell_type": "code",
      "source": [
        "df_frt = pd.DataFrame(feature , columns = data['feature_names'])\n",
        "df_lbl = pd.DataFrame(label , columns = ['label'])\n",
        "df = pd.concat([df_frt, df_lbl], axis=1)\n",
        "df = df.sample(frac = 1)\n",
        "\n",
        "feature = df.values[ : , : 30]\n",
        "label = df.values[ : ,30: ]"
      ],
      "metadata": {
        "id": "qe7cGzRxISHu"
      },
      "execution_count": 27,
      "outputs": []
    },
    {
      "cell_type": "code",
      "source": [
        "df"
      ],
      "metadata": {
        "colab": {
          "base_uri": "https://localhost:8080/",
          "height": 522
        },
        "id": "da3Jy2VJL3oU",
        "outputId": "63b8a1b5-ddb8-45f1-b29e-75b86c215faf"
      },
      "execution_count": 28,
      "outputs": [
        {
          "output_type": "execute_result",
          "data": {
            "text/plain": [
              "     mean radius  mean texture  mean perimeter  mean area  mean smoothness  \\\n",
              "92     -0.243483     -1.054080       -0.297765  -0.293480        -1.623304   \n",
              "495     0.210940      0.214172        0.170979   0.073978        -0.034891   \n",
              "272     2.164957      0.395683        2.279094   2.377985        -0.167259   \n",
              "98     -0.717787     -1.500877       -0.726143  -0.689095        -0.464730   \n",
              "233     1.812780      1.982743        1.747740   1.888800        -0.339479   \n",
              "..           ...           ...             ...        ...              ...   \n",
              "530    -0.675185     -0.402501       -0.662299  -0.659801         0.778530   \n",
              "24      0.716485      0.486439        0.742699   0.710203         1.120124   \n",
              "118     0.469393      0.842480        0.565581   0.363223         1.362087   \n",
              "213     0.935176      1.459153        0.928055   0.833637         0.301721   \n",
              "490    -0.533178      0.733108       -0.567973  -0.535798        -1.027649   \n",
              "\n",
              "     mean compactness  mean concavity  mean concave points  mean symmetry  \\\n",
              "92          -1.019419       -0.705455            -0.578795      -1.553910   \n",
              "495         -0.395915       -0.258122             0.015240      -1.185164   \n",
              "272          1.738969        1.640943             1.544566      -0.330843   \n",
              "98          -0.551317       -0.588066            -0.397721      -0.699589   \n",
              "233          0.057973        0.836170             0.889399      -1.327551   \n",
              "..                ...             ...                  ...            ...   \n",
              "530         -0.136659       -0.451719            -0.116567      -0.779910   \n",
              "24           0.783815        0.799760             1.103489       0.669515   \n",
              "118          1.342883        1.563102             1.183192       1.038260   \n",
              "213          0.194424        0.996873             0.439809      -1.838683   \n",
              "490         -0.991939       -0.899681            -0.936557      -0.977060   \n",
              "\n",
              "     mean fractal dimension  ...  worst texture  worst perimeter  worst area  \\\n",
              "92                -1.363396  ...      -0.541818        -0.082245   -0.087866   \n",
              "495               -0.753827  ...       0.456415        -0.100117   -0.170488   \n",
              "272               -0.121575  ...       0.407562         2.640181    2.642876   \n",
              "98                 0.428455  ...      -1.386977        -0.723832   -0.647058   \n",
              "233               -0.974973  ...       1.905725         1.651291    1.742824   \n",
              "..                      ...  ...            ...              ...         ...   \n",
              "530                0.563128  ...       0.374993        -0.558223   -0.577093   \n",
              "24                 0.071219  ...       0.957974         2.077228    2.345788   \n",
              "118                1.490241  ...       0.785359         0.686230    0.688077   \n",
              "213               -0.586549  ...       0.389649         0.391350    0.246841   \n",
              "490               -0.430613  ...       1.027997        -0.432526   -0.452984   \n",
              "\n",
              "     worst smoothness  worst compactness  worst concavity  \\\n",
              "92          -1.392605          -0.829940        -0.658165   \n",
              "495         -0.472051          -0.734519        -0.490252   \n",
              "272         -0.226570           1.388279         1.480091   \n",
              "98           0.470421          -0.439986        -0.383747   \n",
              "233         -0.441366           0.138901         0.683223   \n",
              "..                ...                ...              ...   \n",
              "530          0.110966          -0.438078        -0.650489   \n",
              "24           2.109883           0.658627         0.946607   \n",
              "118          2.329063           1.515507         2.223228   \n",
              "213         -0.353694          -0.476882         0.038915   \n",
              "490         -0.296707          -0.469885        -0.715735   \n",
              "\n",
              "     worst concave points  worst symmetry  worst fractal dimension  label  \n",
              "92              -0.220880       -1.413545                -1.212820      1  \n",
              "495             -0.196518       -0.860264                -0.995036      1  \n",
              "272              1.058154       -0.109614                 0.256807      0  \n",
              "98              -0.458568       -0.208298                 0.200283      1  \n",
              "233              0.634854       -0.750255                -0.036897      0  \n",
              "..                    ...             ...                      ...    ...  \n",
              "530             -0.207176       -0.683926                -0.353321      1  \n",
              "24               1.444909        1.152255                 0.648043      0  \n",
              "118              1.352027        0.603827                 2.286134      0  \n",
              "213             -0.071660       -2.099484                -0.873676      0  \n",
              "490             -0.780458        0.322334                -0.106167      1  \n",
              "\n",
              "[569 rows x 31 columns]"
            ],
            "text/html": [
              "\n",
              "  <div id=\"df-e9e743f5-693c-45c8-996e-1dc8656e5b11\">\n",
              "    <div class=\"colab-df-container\">\n",
              "      <div>\n",
              "<style scoped>\n",
              "    .dataframe tbody tr th:only-of-type {\n",
              "        vertical-align: middle;\n",
              "    }\n",
              "\n",
              "    .dataframe tbody tr th {\n",
              "        vertical-align: top;\n",
              "    }\n",
              "\n",
              "    .dataframe thead th {\n",
              "        text-align: right;\n",
              "    }\n",
              "</style>\n",
              "<table border=\"1\" class=\"dataframe\">\n",
              "  <thead>\n",
              "    <tr style=\"text-align: right;\">\n",
              "      <th></th>\n",
              "      <th>mean radius</th>\n",
              "      <th>mean texture</th>\n",
              "      <th>mean perimeter</th>\n",
              "      <th>mean area</th>\n",
              "      <th>mean smoothness</th>\n",
              "      <th>mean compactness</th>\n",
              "      <th>mean concavity</th>\n",
              "      <th>mean concave points</th>\n",
              "      <th>mean symmetry</th>\n",
              "      <th>mean fractal dimension</th>\n",
              "      <th>...</th>\n",
              "      <th>worst texture</th>\n",
              "      <th>worst perimeter</th>\n",
              "      <th>worst area</th>\n",
              "      <th>worst smoothness</th>\n",
              "      <th>worst compactness</th>\n",
              "      <th>worst concavity</th>\n",
              "      <th>worst concave points</th>\n",
              "      <th>worst symmetry</th>\n",
              "      <th>worst fractal dimension</th>\n",
              "      <th>label</th>\n",
              "    </tr>\n",
              "  </thead>\n",
              "  <tbody>\n",
              "    <tr>\n",
              "      <th>92</th>\n",
              "      <td>-0.243483</td>\n",
              "      <td>-1.054080</td>\n",
              "      <td>-0.297765</td>\n",
              "      <td>-0.293480</td>\n",
              "      <td>-1.623304</td>\n",
              "      <td>-1.019419</td>\n",
              "      <td>-0.705455</td>\n",
              "      <td>-0.578795</td>\n",
              "      <td>-1.553910</td>\n",
              "      <td>-1.363396</td>\n",
              "      <td>...</td>\n",
              "      <td>-0.541818</td>\n",
              "      <td>-0.082245</td>\n",
              "      <td>-0.087866</td>\n",
              "      <td>-1.392605</td>\n",
              "      <td>-0.829940</td>\n",
              "      <td>-0.658165</td>\n",
              "      <td>-0.220880</td>\n",
              "      <td>-1.413545</td>\n",
              "      <td>-1.212820</td>\n",
              "      <td>1</td>\n",
              "    </tr>\n",
              "    <tr>\n",
              "      <th>495</th>\n",
              "      <td>0.210940</td>\n",
              "      <td>0.214172</td>\n",
              "      <td>0.170979</td>\n",
              "      <td>0.073978</td>\n",
              "      <td>-0.034891</td>\n",
              "      <td>-0.395915</td>\n",
              "      <td>-0.258122</td>\n",
              "      <td>0.015240</td>\n",
              "      <td>-1.185164</td>\n",
              "      <td>-0.753827</td>\n",
              "      <td>...</td>\n",
              "      <td>0.456415</td>\n",
              "      <td>-0.100117</td>\n",
              "      <td>-0.170488</td>\n",
              "      <td>-0.472051</td>\n",
              "      <td>-0.734519</td>\n",
              "      <td>-0.490252</td>\n",
              "      <td>-0.196518</td>\n",
              "      <td>-0.860264</td>\n",
              "      <td>-0.995036</td>\n",
              "      <td>1</td>\n",
              "    </tr>\n",
              "    <tr>\n",
              "      <th>272</th>\n",
              "      <td>2.164957</td>\n",
              "      <td>0.395683</td>\n",
              "      <td>2.279094</td>\n",
              "      <td>2.377985</td>\n",
              "      <td>-0.167259</td>\n",
              "      <td>1.738969</td>\n",
              "      <td>1.640943</td>\n",
              "      <td>1.544566</td>\n",
              "      <td>-0.330843</td>\n",
              "      <td>-0.121575</td>\n",
              "      <td>...</td>\n",
              "      <td>0.407562</td>\n",
              "      <td>2.640181</td>\n",
              "      <td>2.642876</td>\n",
              "      <td>-0.226570</td>\n",
              "      <td>1.388279</td>\n",
              "      <td>1.480091</td>\n",
              "      <td>1.058154</td>\n",
              "      <td>-0.109614</td>\n",
              "      <td>0.256807</td>\n",
              "      <td>0</td>\n",
              "    </tr>\n",
              "    <tr>\n",
              "      <th>98</th>\n",
              "      <td>-0.717787</td>\n",
              "      <td>-1.500877</td>\n",
              "      <td>-0.726143</td>\n",
              "      <td>-0.689095</td>\n",
              "      <td>-0.464730</td>\n",
              "      <td>-0.551317</td>\n",
              "      <td>-0.588066</td>\n",
              "      <td>-0.397721</td>\n",
              "      <td>-0.699589</td>\n",
              "      <td>0.428455</td>\n",
              "      <td>...</td>\n",
              "      <td>-1.386977</td>\n",
              "      <td>-0.723832</td>\n",
              "      <td>-0.647058</td>\n",
              "      <td>0.470421</td>\n",
              "      <td>-0.439986</td>\n",
              "      <td>-0.383747</td>\n",
              "      <td>-0.458568</td>\n",
              "      <td>-0.208298</td>\n",
              "      <td>0.200283</td>\n",
              "      <td>1</td>\n",
              "    </tr>\n",
              "    <tr>\n",
              "      <th>233</th>\n",
              "      <td>1.812780</td>\n",
              "      <td>1.982743</td>\n",
              "      <td>1.747740</td>\n",
              "      <td>1.888800</td>\n",
              "      <td>-0.339479</td>\n",
              "      <td>0.057973</td>\n",
              "      <td>0.836170</td>\n",
              "      <td>0.889399</td>\n",
              "      <td>-1.327551</td>\n",
              "      <td>-0.974973</td>\n",
              "      <td>...</td>\n",
              "      <td>1.905725</td>\n",
              "      <td>1.651291</td>\n",
              "      <td>1.742824</td>\n",
              "      <td>-0.441366</td>\n",
              "      <td>0.138901</td>\n",
              "      <td>0.683223</td>\n",
              "      <td>0.634854</td>\n",
              "      <td>-0.750255</td>\n",
              "      <td>-0.036897</td>\n",
              "      <td>0</td>\n",
              "    </tr>\n",
              "    <tr>\n",
              "      <th>...</th>\n",
              "      <td>...</td>\n",
              "      <td>...</td>\n",
              "      <td>...</td>\n",
              "      <td>...</td>\n",
              "      <td>...</td>\n",
              "      <td>...</td>\n",
              "      <td>...</td>\n",
              "      <td>...</td>\n",
              "      <td>...</td>\n",
              "      <td>...</td>\n",
              "      <td>...</td>\n",
              "      <td>...</td>\n",
              "      <td>...</td>\n",
              "      <td>...</td>\n",
              "      <td>...</td>\n",
              "      <td>...</td>\n",
              "      <td>...</td>\n",
              "      <td>...</td>\n",
              "      <td>...</td>\n",
              "      <td>...</td>\n",
              "      <td>...</td>\n",
              "    </tr>\n",
              "    <tr>\n",
              "      <th>530</th>\n",
              "      <td>-0.675185</td>\n",
              "      <td>-0.402501</td>\n",
              "      <td>-0.662299</td>\n",
              "      <td>-0.659801</td>\n",
              "      <td>0.778530</td>\n",
              "      <td>-0.136659</td>\n",
              "      <td>-0.451719</td>\n",
              "      <td>-0.116567</td>\n",
              "      <td>-0.779910</td>\n",
              "      <td>0.563128</td>\n",
              "      <td>...</td>\n",
              "      <td>0.374993</td>\n",
              "      <td>-0.558223</td>\n",
              "      <td>-0.577093</td>\n",
              "      <td>0.110966</td>\n",
              "      <td>-0.438078</td>\n",
              "      <td>-0.650489</td>\n",
              "      <td>-0.207176</td>\n",
              "      <td>-0.683926</td>\n",
              "      <td>-0.353321</td>\n",
              "      <td>1</td>\n",
              "    </tr>\n",
              "    <tr>\n",
              "      <th>24</th>\n",
              "      <td>0.716485</td>\n",
              "      <td>0.486439</td>\n",
              "      <td>0.742699</td>\n",
              "      <td>0.710203</td>\n",
              "      <td>1.120124</td>\n",
              "      <td>0.783815</td>\n",
              "      <td>0.799760</td>\n",
              "      <td>1.103489</td>\n",
              "      <td>0.669515</td>\n",
              "      <td>0.071219</td>\n",
              "      <td>...</td>\n",
              "      <td>0.957974</td>\n",
              "      <td>2.077228</td>\n",
              "      <td>2.345788</td>\n",
              "      <td>2.109883</td>\n",
              "      <td>0.658627</td>\n",
              "      <td>0.946607</td>\n",
              "      <td>1.444909</td>\n",
              "      <td>1.152255</td>\n",
              "      <td>0.648043</td>\n",
              "      <td>0</td>\n",
              "    </tr>\n",
              "    <tr>\n",
              "      <th>118</th>\n",
              "      <td>0.469393</td>\n",
              "      <td>0.842480</td>\n",
              "      <td>0.565581</td>\n",
              "      <td>0.363223</td>\n",
              "      <td>1.362087</td>\n",
              "      <td>1.342883</td>\n",
              "      <td>1.563102</td>\n",
              "      <td>1.183192</td>\n",
              "      <td>1.038260</td>\n",
              "      <td>1.490241</td>\n",
              "      <td>...</td>\n",
              "      <td>0.785359</td>\n",
              "      <td>0.686230</td>\n",
              "      <td>0.688077</td>\n",
              "      <td>2.329063</td>\n",
              "      <td>1.515507</td>\n",
              "      <td>2.223228</td>\n",
              "      <td>1.352027</td>\n",
              "      <td>0.603827</td>\n",
              "      <td>2.286134</td>\n",
              "      <td>0</td>\n",
              "    </tr>\n",
              "    <tr>\n",
              "      <th>213</th>\n",
              "      <td>0.935176</td>\n",
              "      <td>1.459153</td>\n",
              "      <td>0.928055</td>\n",
              "      <td>0.833637</td>\n",
              "      <td>0.301721</td>\n",
              "      <td>0.194424</td>\n",
              "      <td>0.996873</td>\n",
              "      <td>0.439809</td>\n",
              "      <td>-1.838683</td>\n",
              "      <td>-0.586549</td>\n",
              "      <td>...</td>\n",
              "      <td>0.389649</td>\n",
              "      <td>0.391350</td>\n",
              "      <td>0.246841</td>\n",
              "      <td>-0.353694</td>\n",
              "      <td>-0.476882</td>\n",
              "      <td>0.038915</td>\n",
              "      <td>-0.071660</td>\n",
              "      <td>-2.099484</td>\n",
              "      <td>-0.873676</td>\n",
              "      <td>0</td>\n",
              "    </tr>\n",
              "    <tr>\n",
              "      <th>490</th>\n",
              "      <td>-0.533178</td>\n",
              "      <td>0.733108</td>\n",
              "      <td>-0.567973</td>\n",
              "      <td>-0.535798</td>\n",
              "      <td>-1.027649</td>\n",
              "      <td>-0.991939</td>\n",
              "      <td>-0.899681</td>\n",
              "      <td>-0.936557</td>\n",
              "      <td>-0.977060</td>\n",
              "      <td>-0.430613</td>\n",
              "      <td>...</td>\n",
              "      <td>1.027997</td>\n",
              "      <td>-0.432526</td>\n",
              "      <td>-0.452984</td>\n",
              "      <td>-0.296707</td>\n",
              "      <td>-0.469885</td>\n",
              "      <td>-0.715735</td>\n",
              "      <td>-0.780458</td>\n",
              "      <td>0.322334</td>\n",
              "      <td>-0.106167</td>\n",
              "      <td>1</td>\n",
              "    </tr>\n",
              "  </tbody>\n",
              "</table>\n",
              "<p>569 rows × 31 columns</p>\n",
              "</div>\n",
              "      <button class=\"colab-df-convert\" onclick=\"convertToInteractive('df-e9e743f5-693c-45c8-996e-1dc8656e5b11')\"\n",
              "              title=\"Convert this dataframe to an interactive table.\"\n",
              "              style=\"display:none;\">\n",
              "        \n",
              "  <svg xmlns=\"http://www.w3.org/2000/svg\" height=\"24px\"viewBox=\"0 0 24 24\"\n",
              "       width=\"24px\">\n",
              "    <path d=\"M0 0h24v24H0V0z\" fill=\"none\"/>\n",
              "    <path d=\"M18.56 5.44l.94 2.06.94-2.06 2.06-.94-2.06-.94-.94-2.06-.94 2.06-2.06.94zm-11 1L8.5 8.5l.94-2.06 2.06-.94-2.06-.94L8.5 2.5l-.94 2.06-2.06.94zm10 10l.94 2.06.94-2.06 2.06-.94-2.06-.94-.94-2.06-.94 2.06-2.06.94z\"/><path d=\"M17.41 7.96l-1.37-1.37c-.4-.4-.92-.59-1.43-.59-.52 0-1.04.2-1.43.59L10.3 9.45l-7.72 7.72c-.78.78-.78 2.05 0 2.83L4 21.41c.39.39.9.59 1.41.59.51 0 1.02-.2 1.41-.59l7.78-7.78 2.81-2.81c.8-.78.8-2.07 0-2.86zM5.41 20L4 18.59l7.72-7.72 1.47 1.35L5.41 20z\"/>\n",
              "  </svg>\n",
              "      </button>\n",
              "      \n",
              "  <style>\n",
              "    .colab-df-container {\n",
              "      display:flex;\n",
              "      flex-wrap:wrap;\n",
              "      gap: 12px;\n",
              "    }\n",
              "\n",
              "    .colab-df-convert {\n",
              "      background-color: #E8F0FE;\n",
              "      border: none;\n",
              "      border-radius: 50%;\n",
              "      cursor: pointer;\n",
              "      display: none;\n",
              "      fill: #1967D2;\n",
              "      height: 32px;\n",
              "      padding: 0 0 0 0;\n",
              "      width: 32px;\n",
              "    }\n",
              "\n",
              "    .colab-df-convert:hover {\n",
              "      background-color: #E2EBFA;\n",
              "      box-shadow: 0px 1px 2px rgba(60, 64, 67, 0.3), 0px 1px 3px 1px rgba(60, 64, 67, 0.15);\n",
              "      fill: #174EA6;\n",
              "    }\n",
              "\n",
              "    [theme=dark] .colab-df-convert {\n",
              "      background-color: #3B4455;\n",
              "      fill: #D2E3FC;\n",
              "    }\n",
              "\n",
              "    [theme=dark] .colab-df-convert:hover {\n",
              "      background-color: #434B5C;\n",
              "      box-shadow: 0px 1px 3px 1px rgba(0, 0, 0, 0.15);\n",
              "      filter: drop-shadow(0px 1px 2px rgba(0, 0, 0, 0.3));\n",
              "      fill: #FFFFFF;\n",
              "    }\n",
              "  </style>\n",
              "\n",
              "      <script>\n",
              "        const buttonEl =\n",
              "          document.querySelector('#df-e9e743f5-693c-45c8-996e-1dc8656e5b11 button.colab-df-convert');\n",
              "        buttonEl.style.display =\n",
              "          google.colab.kernel.accessAllowed ? 'block' : 'none';\n",
              "\n",
              "        async function convertToInteractive(key) {\n",
              "          const element = document.querySelector('#df-e9e743f5-693c-45c8-996e-1dc8656e5b11');\n",
              "          const dataTable =\n",
              "            await google.colab.kernel.invokeFunction('convertToInteractive',\n",
              "                                                     [key], {});\n",
              "          if (!dataTable) return;\n",
              "\n",
              "          const docLinkHtml = 'Like what you see? Visit the ' +\n",
              "            '<a target=\"_blank\" href=https://colab.research.google.com/notebooks/data_table.ipynb>data table notebook</a>'\n",
              "            + ' to learn more about interactive tables.';\n",
              "          element.innerHTML = '';\n",
              "          dataTable['output_type'] = 'display_data';\n",
              "          await google.colab.output.renderOutput(dataTable, element);\n",
              "          const docLink = document.createElement('div');\n",
              "          docLink.innerHTML = docLinkHtml;\n",
              "          element.appendChild(docLink);\n",
              "        }\n",
              "      </script>\n",
              "    </div>\n",
              "  </div>\n",
              "  "
            ]
          },
          "metadata": {},
          "execution_count": 28
        }
      ]
    },
    {
      "cell_type": "code",
      "source": [
        "X_train = feature[:500]\n",
        "y_train = label[:500]\n",
        "\n",
        "#35 Validation\n",
        "X_val = feature[500:535]\n",
        "y_val = label[500:535]\n",
        "\n",
        "#34 Testing\n",
        "X_test = feature[535:]\n",
        "y_test = label[535:]"
      ],
      "metadata": {
        "id": "vlR79VCnMHDF"
      },
      "execution_count": 29,
      "outputs": []
    },
    {
      "cell_type": "markdown",
      "source": [
        "# Build ANN model"
      ],
      "metadata": {
        "id": "IS6NPi3EM-jB"
      }
    },
    {
      "cell_type": "code",
      "source": [
        "model = Sequential()\n",
        "\n",
        "model.add(Dense(32,activation='relu',input_dim=30))\n",
        "model.add(Dense(16,activation='relu'))\n",
        "model.add(Dense(8,activation='relu'))\n",
        "model.add(Dense(1,activation='sigmoid'))\n",
        "\n",
        "model.compile( loss = 'binary_crossentropy' , optimizer = 'adam' , metrics = ['accuracy'])"
      ],
      "metadata": {
        "id": "ncX9X11WM9mj"
      },
      "execution_count": 30,
      "outputs": []
    },
    {
      "cell_type": "code",
      "source": [
        "model.summary()"
      ],
      "metadata": {
        "colab": {
          "base_uri": "https://localhost:8080/"
        },
        "id": "IP42WVe2Om1O",
        "outputId": "3fceb4c3-1774-4b54-8e6c-8a550750ddf3"
      },
      "execution_count": 31,
      "outputs": [
        {
          "output_type": "stream",
          "name": "stdout",
          "text": [
            "Model: \"sequential\"\n",
            "_________________________________________________________________\n",
            " Layer (type)                Output Shape              Param #   \n",
            "=================================================================\n",
            " dense (Dense)               (None, 32)                992       \n",
            "                                                                 \n",
            " dense_1 (Dense)             (None, 16)                528       \n",
            "                                                                 \n",
            " dense_2 (Dense)             (None, 8)                 136       \n",
            "                                                                 \n",
            " dense_3 (Dense)             (None, 1)                 9         \n",
            "                                                                 \n",
            "=================================================================\n",
            "Total params: 1,665\n",
            "Trainable params: 1,665\n",
            "Non-trainable params: 0\n",
            "_________________________________________________________________\n"
          ]
        }
      ]
    },
    {
      "cell_type": "code",
      "source": [
        "model.fit( X_train , y_train, epochs = 10, batch_size = 5, validation_data = (X_val, y_val))"
      ],
      "metadata": {
        "colab": {
          "base_uri": "https://localhost:8080/"
        },
        "id": "x6T48v2xO-um",
        "outputId": "00442c91-8ff7-4b7f-a3ad-a8b1ae15cede"
      },
      "execution_count": 32,
      "outputs": [
        {
          "output_type": "stream",
          "name": "stdout",
          "text": [
            "Epoch 1/10\n",
            "100/100 [==============================] - 2s 4ms/step - loss: 0.3435 - accuracy: 0.9280 - val_loss: 0.1560 - val_accuracy: 0.8857\n",
            "Epoch 2/10\n",
            "100/100 [==============================] - 1s 7ms/step - loss: 0.1043 - accuracy: 0.9700 - val_loss: 0.0781 - val_accuracy: 0.9714\n",
            "Epoch 3/10\n",
            "100/100 [==============================] - 0s 2ms/step - loss: 0.0696 - accuracy: 0.9780 - val_loss: 0.0520 - val_accuracy: 1.0000\n",
            "Epoch 4/10\n",
            "100/100 [==============================] - 0s 2ms/step - loss: 0.0570 - accuracy: 0.9800 - val_loss: 0.0383 - val_accuracy: 1.0000\n",
            "Epoch 5/10\n",
            "100/100 [==============================] - 0s 2ms/step - loss: 0.0468 - accuracy: 0.9860 - val_loss: 0.0304 - val_accuracy: 1.0000\n",
            "Epoch 6/10\n",
            "100/100 [==============================] - 0s 2ms/step - loss: 0.0382 - accuracy: 0.9900 - val_loss: 0.0277 - val_accuracy: 1.0000\n",
            "Epoch 7/10\n",
            "100/100 [==============================] - 0s 2ms/step - loss: 0.0343 - accuracy: 0.9880 - val_loss: 0.0182 - val_accuracy: 1.0000\n",
            "Epoch 8/10\n",
            "100/100 [==============================] - 0s 2ms/step - loss: 0.0282 - accuracy: 0.9920 - val_loss: 0.0225 - val_accuracy: 1.0000\n",
            "Epoch 9/10\n",
            "100/100 [==============================] - 0s 2ms/step - loss: 0.0223 - accuracy: 0.9940 - val_loss: 0.0147 - val_accuracy: 1.0000\n",
            "Epoch 10/10\n",
            "100/100 [==============================] - 0s 2ms/step - loss: 0.0160 - accuracy: 0.9960 - val_loss: 0.0123 - val_accuracy: 1.0000\n"
          ]
        },
        {
          "output_type": "execute_result",
          "data": {
            "text/plain": [
              "<keras.callbacks.History at 0x7efed0553e80>"
            ]
          },
          "metadata": {},
          "execution_count": 32
        }
      ]
    },
    {
      "cell_type": "code",
      "source": [
        "model.evaluate(X_test , y_test)"
      ],
      "metadata": {
        "colab": {
          "base_uri": "https://localhost:8080/"
        },
        "id": "Ut9zhEgRueFs",
        "outputId": "c2d73ecf-510b-4063-f873-cb594bfcc98d"
      },
      "execution_count": 33,
      "outputs": [
        {
          "output_type": "stream",
          "name": "stdout",
          "text": [
            "2/2 [==============================] - 0s 7ms/step - loss: 0.4901 - accuracy: 0.9412\n"
          ]
        },
        {
          "output_type": "execute_result",
          "data": {
            "text/plain": [
              "[0.49006009101867676, 0.9411764740943909]"
            ]
          },
          "metadata": {},
          "execution_count": 33
        }
      ]
    },
    {
      "cell_type": "code",
      "source": [
        "model.evaluate(X_val , y_val)"
      ],
      "metadata": {
        "colab": {
          "base_uri": "https://localhost:8080/"
        },
        "id": "78e_EoPhvLA7",
        "outputId": "e2db033f-bf34-431b-80f5-f395d070c3bc"
      },
      "execution_count": 34,
      "outputs": [
        {
          "output_type": "stream",
          "name": "stdout",
          "text": [
            "2/2 [==============================] - 0s 11ms/step - loss: 0.0123 - accuracy: 1.0000\n"
          ]
        },
        {
          "output_type": "execute_result",
          "data": {
            "text/plain": [
              "[0.012316042557358742, 1.0]"
            ]
          },
          "metadata": {},
          "execution_count": 34
        }
      ]
    },
    {
      "cell_type": "code",
      "source": [
        "for i in range(30):\n",
        "  sample = X_test[i]\n",
        "  sample = np.reshape(sample, (1,30))\n",
        "\n",
        "  if (model.predict(sample)[0][0] > 0.5):\n",
        "    print(\"-Benign\")\n",
        "  else:\n",
        "    print(\"-Malignant\")\n",
        "\n",
        "  if (y_test[i] == 1):\n",
        "    print(\"*Benign\")\n",
        "  else:\n",
        "    print(\"*Malignant\")\n",
        "  print(\"-----------\")"
      ],
      "metadata": {
        "colab": {
          "base_uri": "https://localhost:8080/"
        },
        "id": "-S74MVAZvK8-",
        "outputId": "8595d1cc-1ad2-4dca-cae4-2373b607fb9e"
      },
      "execution_count": 37,
      "outputs": [
        {
          "output_type": "stream",
          "name": "stdout",
          "text": [
            "1/1 [==============================] - 0s 29ms/step\n",
            "-Benign\n",
            "*Malignant\n",
            "-----------\n",
            "1/1 [==============================] - 0s 29ms/step\n",
            "-Benign\n",
            "*Benign\n",
            "-----------\n",
            "1/1 [==============================] - 0s 28ms/step\n",
            "-Benign\n",
            "*Benign\n",
            "-----------\n",
            "1/1 [==============================] - 0s 28ms/step\n",
            "-Benign\n",
            "*Benign\n",
            "-----------\n",
            "1/1 [==============================] - 0s 24ms/step\n",
            "-Malignant\n",
            "*Malignant\n",
            "-----------\n",
            "1/1 [==============================] - 0s 28ms/step\n",
            "-Benign\n",
            "*Benign\n",
            "-----------\n",
            "1/1 [==============================] - 0s 26ms/step\n",
            "-Malignant\n",
            "*Malignant\n",
            "-----------\n",
            "1/1 [==============================] - 0s 25ms/step\n",
            "-Benign\n",
            "*Benign\n",
            "-----------\n",
            "1/1 [==============================] - 0s 32ms/step\n",
            "-Benign\n",
            "*Benign\n",
            "-----------\n",
            "1/1 [==============================] - 0s 28ms/step\n",
            "-Benign\n",
            "*Benign\n",
            "-----------\n",
            "1/1 [==============================] - 0s 28ms/step\n",
            "-Malignant\n",
            "*Malignant\n",
            "-----------\n",
            "1/1 [==============================] - 0s 25ms/step\n",
            "-Malignant\n",
            "*Malignant\n",
            "-----------\n",
            "1/1 [==============================] - 0s 25ms/step\n",
            "-Benign\n",
            "*Benign\n",
            "-----------\n",
            "1/1 [==============================] - 0s 25ms/step\n",
            "-Benign\n",
            "*Benign\n",
            "-----------\n",
            "1/1 [==============================] - 0s 27ms/step\n",
            "-Benign\n",
            "*Benign\n",
            "-----------\n",
            "1/1 [==============================] - 0s 31ms/step\n",
            "-Malignant\n",
            "*Malignant\n",
            "-----------\n",
            "1/1 [==============================] - 0s 44ms/step\n",
            "-Malignant\n",
            "*Malignant\n",
            "-----------\n",
            "1/1 [==============================] - 0s 34ms/step\n",
            "-Benign\n",
            "*Benign\n",
            "-----------\n",
            "1/1 [==============================] - 0s 23ms/step\n",
            "-Benign\n",
            "*Benign\n",
            "-----------\n",
            "1/1 [==============================] - 0s 23ms/step\n",
            "-Malignant\n",
            "*Malignant\n",
            "-----------\n",
            "1/1 [==============================] - 0s 30ms/step\n",
            "-Malignant\n",
            "*Malignant\n",
            "-----------\n",
            "1/1 [==============================] - 0s 27ms/step\n",
            "-Benign\n",
            "*Benign\n",
            "-----------\n",
            "1/1 [==============================] - 0s 22ms/step\n",
            "-Malignant\n",
            "*Malignant\n",
            "-----------\n",
            "1/1 [==============================] - 0s 22ms/step\n",
            "-Benign\n",
            "*Benign\n",
            "-----------\n",
            "1/1 [==============================] - 0s 25ms/step\n",
            "-Benign\n",
            "*Benign\n",
            "-----------\n",
            "1/1 [==============================] - 0s 24ms/step\n",
            "-Benign\n",
            "*Benign\n",
            "-----------\n",
            "1/1 [==============================] - 0s 24ms/step\n",
            "-Benign\n",
            "*Benign\n",
            "-----------\n",
            "1/1 [==============================] - 0s 30ms/step\n",
            "-Benign\n",
            "*Benign\n",
            "-----------\n",
            "1/1 [==============================] - 0s 26ms/step\n",
            "-Malignant\n",
            "*Malignant\n",
            "-----------\n",
            "1/1 [==============================] - 0s 25ms/step\n",
            "-Benign\n",
            "*Benign\n",
            "-----------\n"
          ]
        }
      ]
    },
    {
      "cell_type": "code",
      "source": [
        "t = 0\n",
        "for i in y_val:\n",
        "  if (i == 1):\n",
        "    t += 1\n",
        "\n",
        "print(t)\n",
        "     "
      ],
      "metadata": {
        "colab": {
          "base_uri": "https://localhost:8080/"
        },
        "id": "FCZRtCOWvK4o",
        "outputId": "5fb5ea37-3ef6-4dc4-ec4b-813355eb012e"
      },
      "execution_count": 38,
      "outputs": [
        {
          "output_type": "stream",
          "name": "stdout",
          "text": [
            "22\n"
          ]
        }
      ]
    },
    {
      "cell_type": "code",
      "source": [
        "t = 0\n",
        "for i in y_test:\n",
        "  if (i == 1):\n",
        "    t += 1\n",
        "\n",
        "print(t)\n",
        "     "
      ],
      "metadata": {
        "colab": {
          "base_uri": "https://localhost:8080/"
        },
        "id": "RZQX43CRvK1P",
        "outputId": "1a245647-9fea-4010-c7dc-780f48792dea"
      },
      "execution_count": 39,
      "outputs": [
        {
          "output_type": "stream",
          "name": "stdout",
          "text": [
            "20\n"
          ]
        }
      ]
    },
    {
      "cell_type": "code",
      "source": [
        "X_test[0] * -.1"
      ],
      "metadata": {
        "colab": {
          "base_uri": "https://localhost:8080/"
        },
        "id": "6eVOItj9w7Di",
        "outputId": "e3a4dab2-12b6-411e-a1b2-550234ecef70"
      },
      "execution_count": 40,
      "outputs": [
        {
          "output_type": "execute_result",
          "data": {
            "text/plain": [
              "array([ 0.03854901, -0.07400891,  0.04221597,  0.04226027,  0.04134912,\n",
              "        0.08856213,  0.05234082,  0.05643503,  0.08273718,  0.0304446 ,\n",
              "        0.0608051 , -0.0296004 ,  0.06975274,  0.04503107, -0.01526799,\n",
              "        0.07521692,  0.02842789,  0.04665372,  0.04930678,  0.04410047,\n",
              "        0.03684391, -0.12527209,  0.04533766,  0.03990165, -0.04178177,\n",
              "        0.06486401,  0.02614098,  0.0324269 ,  0.0116085 ,  0.01815321])"
            ]
          },
          "metadata": {},
          "execution_count": 40
        }
      ]
    }
  ]
}